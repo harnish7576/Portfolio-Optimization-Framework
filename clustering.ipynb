{
 "cells": [
  {
   "cell_type": "code",
   "execution_count": 1,
   "metadata": {},
   "outputs": [],
   "source": [
    "import yfinance as yf\n",
    "import pandas as pd\n",
    "import numpy as np\n",
    "from time import sleep"
   ]
  },
  {
   "cell_type": "code",
   "execution_count": 2,
   "metadata": {},
   "outputs": [
    {
     "name": "stderr",
     "output_type": "stream",
     "text": [
      "/var/folders/sp/kv_nm1x15xs4v4444j_8fyyh0000gn/T/ipykernel_7737/1455773717.py:4: FutureWarning: The default value of regex will change from True to False in a future version. In addition, single character regular expressions will *not* be treated as literal strings when regex=True.\n",
      "  stock_symbols['Symbol'] = stock_symbols['Symbol'].str.replace('^','')\n"
     ]
    },
    {
     "data": {
      "text/plain": [
       "(497, 1)"
      ]
     },
     "metadata": {},
     "output_type": "display_data"
    },
    {
     "name": "stdout",
     "output_type": "stream",
     "text": [
      "  Symbol\n",
      "0    MMM\n",
      "1    AOS\n",
      "2    ABT\n",
      "3   ABBV\n",
      "4    ACN\n"
     ]
    }
   ],
   "source": [
    "stock_symbols = pd.read_csv(r\"/Users/harnishsavadia/Desktop/Capstone Project/data/stock_list.csv\")\n",
    "\n",
    "# we have a character that will cause issues in our request so we have to remove it\n",
    "stock_symbols['Symbol'] = stock_symbols['Symbol'].str.replace('^','')\n",
    "\n",
    "# display the number of rows.\n",
    "display(stock_symbols.shape)\n",
    "print(stock_symbols.head())"
   ]
  },
  {
   "cell_type": "code",
   "execution_count": 13,
   "metadata": {},
   "outputs": [
    {
     "name": "stderr",
     "output_type": "stream",
     "text": [
      "404 Client Error: Not Found for url: https://query2.finance.yahoo.com/v10/finance/quoteSummary/ATVI?modules=financialData%2CquoteType%2CdefaultKeyStatistics%2CassetProfile%2CsummaryDetail&corsDomain=finance.yahoo.com&formatted=false&symbol=ATVI&crumb=hZ6MW5YNHTh\n",
      "404 Client Error: Not Found for url: https://query2.finance.yahoo.com/v10/finance/quoteSummary/ABC?modules=financialData%2CquoteType%2CdefaultKeyStatistics%2CassetProfile%2CsummaryDetail&corsDomain=finance.yahoo.com&formatted=false&symbol=ABC&crumb=hZ6MW5YNHTh\n",
      "404 Client Error: Not Found for url: https://query2.finance.yahoo.com/v10/finance/quoteSummary/CDAY?modules=financialData%2CquoteType%2CdefaultKeyStatistics%2CassetProfile%2CsummaryDetail&corsDomain=finance.yahoo.com&formatted=false&symbol=CDAY&crumb=hZ6MW5YNHTh\n",
      "404 Client Error: Not Found for url: https://query2.finance.yahoo.com/v10/finance/quoteSummary/FLT?modules=financialData%2CquoteType%2CdefaultKeyStatistics%2CassetProfile%2CsummaryDetail&corsDomain=finance.yahoo.com&formatted=false&symbol=FLT&crumb=hZ6MW5YNHTh\n",
      "404 Client Error: Not Found for url: https://query2.finance.yahoo.com/v10/finance/quoteSummary/PEAK?modules=financialData%2CquoteType%2CdefaultKeyStatistics%2CassetProfile%2CsummaryDetail&corsDomain=finance.yahoo.com&formatted=false&symbol=PEAK&crumb=hZ6MW5YNHTh\n",
      "404 Client Error: Not Found for url: https://query2.finance.yahoo.com/v10/finance/quoteSummary/PXD?modules=financialData%2CquoteType%2CdefaultKeyStatistics%2CassetProfile%2CsummaryDetail&corsDomain=finance.yahoo.com&formatted=false&symbol=PXD&crumb=hZ6MW5YNHTh\n",
      "404 Client Error: Not Found for url: https://query2.finance.yahoo.com/v10/finance/quoteSummary/WRK?modules=financialData%2CquoteType%2CdefaultKeyStatistics%2CassetProfile%2CsummaryDetail&corsDomain=finance.yahoo.com&formatted=false&symbol=WRK&crumb=hZ6MW5YNHTh\n"
     ]
    },
    {
     "name": "stdout",
     "output_type": "stream",
     "text": [
      "Stock Metrics DataFrame:\n",
      "     Symbol  Book Value  Current Ratio  Dividend Yield  Shares Outstanding  \\\n",
      "MMM     MMM        8.52           1.43            0.02        5.445590e+08   \n",
      "AOS     AOS       13.22           1.67            0.02        1.191100e+08   \n",
      "ABT     ABT       22.94           1.60            0.02        1.734460e+09   \n",
      "ABBV   ABBV        3.41           0.64            0.04        1.767140e+09   \n",
      "ACN     ACN       45.24           1.10            0.02        6.248560e+08   \n",
      "\n",
      "      Debt to Equity  Volume 10D Avg  Volume 3M Avg  Return on Equity  \\\n",
      "MMM           295.44       3703630.0      3651652.0              1.13   \n",
      "AOS             7.47       1072980.0       982217.0              0.30   \n",
      "ABT            37.59       5543280.0      4920093.0              0.15   \n",
      "ABBV         1174.82       6018580.0      4700869.0              0.56   \n",
      "ACN            14.13       2597030.0      2261942.0              0.27   \n",
      "\n",
      "      Return on Assets Return on Investment  P/E Ratio  Forward P/E  \\\n",
      "MMM               0.09                 None  13.825364        16.84   \n",
      "AOS               0.14                 None  19.815304        18.45   \n",
      "ABT               0.06                 None  35.501522        22.64   \n",
      "ABBV              0.08                 None  60.565968        14.38   \n",
      "ACN               0.12                 None   31.25984        25.39   \n",
      "\n",
      "      PEG Ratio  Free Cash Flow  Operating Cash Flow Levered Free Cash Flow  \\\n",
      "MMM       -5.38    3.131125e+09         1.987000e+09                   None   \n",
      "AOS        2.01    4.030250e+08         5.912000e+08                   None   \n",
      "ABT        2.97    6.404875e+09         8.728001e+09                   None   \n",
      "ABBV       2.74    1.773900e+10         1.651100e+10                   None   \n",
      "ACN        2.87    7.641968e+09         9.131027e+09                   None   \n",
      "\n",
      "     Price to Cash Flow Capital Expenditures  \n",
      "MMM                None                 None  \n",
      "AOS                None                 None  \n",
      "ABT                None                 None  \n",
      "ABBV               None                 None  \n",
      "ACN                None                 None  \n",
      "\n",
      "DataFrame Shape: (497, 19)\n"
     ]
    }
   ],
   "source": [
    "# Dictionary to store all stock data\n",
    "stock_dict = {}\n",
    "\n",
    "# Loop through each symbol and get the data\n",
    "for symbol in stock_symbols['Symbol']:\n",
    "    try:\n",
    "        stock = yf.Ticker(symbol)\n",
    "        \n",
    "        # Get basic info including financial metrics\n",
    "        info = stock.info\n",
    "        \n",
    "        # Store metrics in dictionary\n",
    "        stock_dict[symbol] = {\n",
    "            # 'Symbol': info.get('symbol'),\n",
    "            'Book Value': info.get('bookValue'),\n",
    "            'Current Ratio': info.get('currentRatio'),\n",
    "            'Dividend Yield': info.get('dividendYield'),\n",
    "            'Shares Outstanding': info.get('sharesOutstanding'),\n",
    "            'Debt to Equity': info.get('debtToEquity'),\n",
    "            'Volume 10D Avg': info.get('averageVolume10days'),\n",
    "            'Volume 3M Avg': info.get('averageVolume'),\n",
    "            'Return on Equity': info.get('returnOnEquity'),\n",
    "            'Return on Assets': info.get('returnOnAssets'),\n",
    "            'Return on Investment': info.get('returnOnCapital'),\n",
    "            'P/E Ratio': info.get('trailingPE'),\n",
    "            'Forward P/E': info.get('forwardPE'),\n",
    "            'PEG Ratio': info.get('pegRatio'),\n",
    "            'Free Cash Flow': info.get('freeCashflow'),\n",
    "            'Operating Cash Flow': info.get('operatingCashflow'),\n",
    "            'Levered Free Cash Flow': info.get('leveredFreeCashflow'),\n",
    "            'Price to Cash Flow': info.get('priceToOperatingCashflows'),\n",
    "            'Capital Expenditures': info.get('capitalExpenditures'),\n",
    "        }\n",
    "        \n",
    "        # Add small delay to avoid rate limits\n",
    "        sleep(0.1)\n",
    "        \n",
    "    except Exception as e:\n",
    "        print(f\"Error fetching data for {symbol}: {str(e)}\")\n",
    "        continue\n",
    "\n",
    "# Create DataFrame from dictionary\n",
    "stock_df = pd.DataFrame.from_dict(stock_dict, orient='index')\n",
    "\n",
    "# Clean up the DataFrame\n",
    "stock_df = stock_df.replace([np.inf, -np.inf], np.nan)  # Replace infinite values\n",
    "stock_df = stock_df.round(2)  # Round numerical values\n",
    "\n",
    "# Display first few rows\n",
    "print(\"Stock Metrics DataFrame:\")\n",
    "print(stock_df.head())\n",
    "\n",
    "# Display shape\n",
    "print(\"\\nDataFrame Shape:\", stock_df.shape)"
   ]
  },
  {
   "cell_type": "code",
   "execution_count": 40,
   "metadata": {},
   "outputs": [
    {
     "data": {
      "text/html": [
       "<div>\n",
       "<style scoped>\n",
       "    .dataframe tbody tr th:only-of-type {\n",
       "        vertical-align: middle;\n",
       "    }\n",
       "\n",
       "    .dataframe tbody tr th {\n",
       "        vertical-align: top;\n",
       "    }\n",
       "\n",
       "    .dataframe thead th {\n",
       "        text-align: right;\n",
       "    }\n",
       "</style>\n",
       "<table border=\"1\" class=\"dataframe\">\n",
       "  <thead>\n",
       "    <tr style=\"text-align: right;\">\n",
       "      <th></th>\n",
       "      <th>Return on Equity</th>\n",
       "      <th>Return on Assets</th>\n",
       "      <th>Dividend Yield</th>\n",
       "      <th>P/E Ratio</th>\n",
       "      <th>Free Cash Flow</th>\n",
       "      <th>Shares Outstanding</th>\n",
       "    </tr>\n",
       "  </thead>\n",
       "  <tbody>\n",
       "    <tr>\n",
       "      <th>MMM</th>\n",
       "      <td>1.13</td>\n",
       "      <td>0.09</td>\n",
       "      <td>0.02</td>\n",
       "      <td>13.825364</td>\n",
       "      <td>3.13 B</td>\n",
       "      <td>544.56 M</td>\n",
       "    </tr>\n",
       "    <tr>\n",
       "      <th>AOS</th>\n",
       "      <td>0.30</td>\n",
       "      <td>0.14</td>\n",
       "      <td>0.02</td>\n",
       "      <td>19.815304</td>\n",
       "      <td>0.4 B</td>\n",
       "      <td>119.11 M</td>\n",
       "    </tr>\n",
       "    <tr>\n",
       "      <th>ABT</th>\n",
       "      <td>0.15</td>\n",
       "      <td>0.06</td>\n",
       "      <td>0.02</td>\n",
       "      <td>35.501522</td>\n",
       "      <td>6.4 B</td>\n",
       "      <td>1734.46 M</td>\n",
       "    </tr>\n",
       "    <tr>\n",
       "      <th>ABBV</th>\n",
       "      <td>0.56</td>\n",
       "      <td>0.08</td>\n",
       "      <td>0.04</td>\n",
       "      <td>60.565968</td>\n",
       "      <td>17.74 B</td>\n",
       "      <td>1767.14 M</td>\n",
       "    </tr>\n",
       "    <tr>\n",
       "      <th>ACN</th>\n",
       "      <td>0.27</td>\n",
       "      <td>0.12</td>\n",
       "      <td>0.02</td>\n",
       "      <td>31.25984</td>\n",
       "      <td>7.64 B</td>\n",
       "      <td>624.86 M</td>\n",
       "    </tr>\n",
       "  </tbody>\n",
       "</table>\n",
       "</div>"
      ],
      "text/plain": [
       "      Return on Equity  Return on Assets  Dividend Yield  P/E Ratio  \\\n",
       "MMM               1.13              0.09            0.02  13.825364   \n",
       "AOS               0.30              0.14            0.02  19.815304   \n",
       "ABT               0.15              0.06            0.02  35.501522   \n",
       "ABBV              0.56              0.08            0.04  60.565968   \n",
       "ACN               0.27              0.12            0.02   31.25984   \n",
       "\n",
       "     Free Cash Flow Shares Outstanding  \n",
       "MMM          3.13 B           544.56 M  \n",
       "AOS           0.4 B           119.11 M  \n",
       "ABT           6.4 B          1734.46 M  \n",
       "ABBV        17.74 B          1767.14 M  \n",
       "ACN          7.64 B           624.86 M  "
      ]
     },
     "metadata": {},
     "output_type": "display_data"
    }
   ],
   "source": [
    "# define our indicators list\n",
    "metrics_list = ['Return on Equity', 'Return on Assets', \n",
    "                'Dividend Yield', 'P/E Ratio', 'Free Cash Flow', 'Shares Outstanding' \n",
    "                ]\n",
    "\n",
    "# select only those columns\n",
    "indicators_df = stock_df[metrics_list]\n",
    "\n",
    "# clustering can't handle missing values, so we need to eliminate any row that has a missing value.\n",
    "indicators_df = indicators_df[indicators_df[metrics_list] != 0]\n",
    "indicators_df = indicators_df.dropna(how='any')\n",
    "\n",
    "indicators_df[\"Free Cash Flow\"] = (indicators_df[\"Free Cash Flow\"] / 1e9).round(2).astype(str) + \" B\"\n",
    "indicators_df[\"Shares Outstanding\"] = (indicators_df[\"Shares Outstanding\"] / 1e6).round(2).astype(str) + \" M\"\n",
    "\n",
    "display(indicators_df.head())"
   ]
  },
  {
   "cell_type": "code",
   "execution_count": 49,
   "metadata": {},
   "outputs": [
    {
     "data": {
      "text/plain": [
       "True    297\n",
       "Name: Return on Equity, dtype: int64"
      ]
     },
     "metadata": {},
     "output_type": "display_data"
    },
    {
     "data": {
      "text/plain": [
       "True    297\n",
       "Name: Return on Assets, dtype: int64"
      ]
     },
     "metadata": {},
     "output_type": "display_data"
    },
    {
     "data": {
      "text/plain": [
       "True    297\n",
       "Name: Dividend Yield, dtype: int64"
      ]
     },
     "metadata": {},
     "output_type": "display_data"
    },
    {
     "data": {
      "text/plain": [
       "True    297\n",
       "Name: P/E Ratio, dtype: int64"
      ]
     },
     "metadata": {},
     "output_type": "display_data"
    },
    {
     "data": {
      "text/plain": [
       "True    297\n",
       "Name: Free Cash Flow, dtype: int64"
      ]
     },
     "metadata": {},
     "output_type": "display_data"
    },
    {
     "data": {
      "text/plain": [
       "True    297\n",
       "Name: Shares Outstanding, dtype: int64"
      ]
     },
     "metadata": {},
     "output_type": "display_data"
    }
   ],
   "source": [
    "# Define the filters for each indicator\n",
    "roe_filter = indicators_df['Return on Equity'] < 40\n",
    "roa_filter = indicators_df['Return on Assets'] < 30\n",
    "dividend_yield_filter = indicators_df['Dividend Yield'] < 20\n",
    "pe_ratio_filter = indicators_df['P/E Ratio'] < 3000\n",
    "free_cash_flow_filter = indicators_df['Free Cash Flow'].apply(lambda x: float(x.replace(' B', '')) < 100)  # Convert B to number and apply threshold\n",
    "shares_outstanding_filter = indicators_df['Shares Outstanding'].apply(lambda x: float(x.replace(' M', '')) < 10000)  # Convert M to number and apply threshold\n",
    "\n",
    "# Get the counts for each column\n",
    "roe_count = pd.Series(roe_filter).value_counts()\n",
    "roa_count = pd.Series(roa_filter).value_counts()\n",
    "dividend_yield_count = pd.Series(dividend_yield_filter).value_counts()\n",
    "pe_ratio_count = pd.Series(pe_ratio_filter).value_counts()\n",
    "free_cash_flow_count = pd.Series(free_cash_flow_filter).value_counts()\n",
    "shares_outstanding_count = pd.Series(shares_outstanding_filter).value_counts()\n",
    "\n",
    "# Display the results\n",
    "display(roe_count)\n",
    "display(roa_count)\n",
    "display(dividend_yield_count)\n",
    "display(pe_ratio_count)\n",
    "display(free_cash_flow_count)\n",
    "display(shares_outstanding_count)\n"
   ]
  },
  {
   "cell_type": "code",
   "execution_count": 53,
   "metadata": {},
   "outputs": [
    {
     "data": {
      "text/html": [
       "<div>\n",
       "<style scoped>\n",
       "    .dataframe tbody tr th:only-of-type {\n",
       "        vertical-align: middle;\n",
       "    }\n",
       "\n",
       "    .dataframe tbody tr th {\n",
       "        vertical-align: top;\n",
       "    }\n",
       "\n",
       "    .dataframe thead th {\n",
       "        text-align: right;\n",
       "    }\n",
       "</style>\n",
       "<table border=\"1\" class=\"dataframe\">\n",
       "  <thead>\n",
       "    <tr style=\"text-align: right;\">\n",
       "      <th></th>\n",
       "      <th>Return on Equity</th>\n",
       "      <th>Return on Assets</th>\n",
       "      <th>Dividend Yield</th>\n",
       "      <th>P/E Ratio</th>\n",
       "      <th>Free Cash Flow</th>\n",
       "      <th>Shares Outstanding</th>\n",
       "    </tr>\n",
       "  </thead>\n",
       "  <tbody>\n",
       "    <tr>\n",
       "      <th>MMM</th>\n",
       "      <td>1.13</td>\n",
       "      <td>0.09</td>\n",
       "      <td>0.02</td>\n",
       "      <td>13.825364</td>\n",
       "      <td>3.13 B</td>\n",
       "      <td>544.56 M</td>\n",
       "    </tr>\n",
       "    <tr>\n",
       "      <th>AOS</th>\n",
       "      <td>0.30</td>\n",
       "      <td>0.14</td>\n",
       "      <td>0.02</td>\n",
       "      <td>19.815304</td>\n",
       "      <td>0.4 B</td>\n",
       "      <td>119.11 M</td>\n",
       "    </tr>\n",
       "    <tr>\n",
       "      <th>ABT</th>\n",
       "      <td>0.15</td>\n",
       "      <td>0.06</td>\n",
       "      <td>0.02</td>\n",
       "      <td>35.501522</td>\n",
       "      <td>6.4 B</td>\n",
       "      <td>1734.46 M</td>\n",
       "    </tr>\n",
       "    <tr>\n",
       "      <th>ABBV</th>\n",
       "      <td>0.56</td>\n",
       "      <td>0.08</td>\n",
       "      <td>0.04</td>\n",
       "      <td>60.565968</td>\n",
       "      <td>17.74 B</td>\n",
       "      <td>1767.14 M</td>\n",
       "    </tr>\n",
       "    <tr>\n",
       "      <th>ACN</th>\n",
       "      <td>0.27</td>\n",
       "      <td>0.12</td>\n",
       "      <td>0.02</td>\n",
       "      <td>31.25984</td>\n",
       "      <td>7.64 B</td>\n",
       "      <td>624.86 M</td>\n",
       "    </tr>\n",
       "  </tbody>\n",
       "</table>\n",
       "</div>"
      ],
      "text/plain": [
       "      Return on Equity  Return on Assets  Dividend Yield  P/E Ratio  \\\n",
       "MMM               1.13              0.09            0.02  13.825364   \n",
       "AOS               0.30              0.14            0.02  19.815304   \n",
       "ABT               0.15              0.06            0.02  35.501522   \n",
       "ABBV              0.56              0.08            0.04  60.565968   \n",
       "ACN               0.27              0.12            0.02   31.25984   \n",
       "\n",
       "     Free Cash Flow Shares Outstanding  \n",
       "MMM          3.13 B           544.56 M  \n",
       "AOS           0.4 B           119.11 M  \n",
       "ABT           6.4 B          1734.46 M  \n",
       "ABBV        17.74 B          1767.14 M  \n",
       "ACN          7.64 B           624.86 M  "
      ]
     },
     "metadata": {},
     "output_type": "display_data"
    }
   ],
   "source": [
    "# Filter the data frame based on the conditions for each indicator\n",
    "indicators_df = indicators_df[\n",
    "    roe_filter & roa_filter & dividend_yield_filter & pe_ratio_filter & \n",
    "    free_cash_flow_filter & shares_outstanding_filter\n",
    "]\n",
    "\n",
    "# Display the filtered results\n",
    "display(indicators_df.head())\n"
   ]
  },
  {
   "cell_type": "code",
   "execution_count": 58,
   "metadata": {},
   "outputs": [
    {
     "data": {
      "text/html": [
       "<div>\n",
       "<style scoped>\n",
       "    .dataframe tbody tr th:only-of-type {\n",
       "        vertical-align: middle;\n",
       "    }\n",
       "\n",
       "    .dataframe tbody tr th {\n",
       "        vertical-align: top;\n",
       "    }\n",
       "\n",
       "    .dataframe thead th {\n",
       "        text-align: right;\n",
       "    }\n",
       "</style>\n",
       "<table border=\"1\" class=\"dataframe\">\n",
       "  <thead>\n",
       "    <tr style=\"text-align: right;\">\n",
       "      <th></th>\n",
       "      <th>Return on Equity</th>\n",
       "      <th>Return on Assets</th>\n",
       "      <th>Dividend Yield</th>\n",
       "    </tr>\n",
       "  </thead>\n",
       "  <tbody>\n",
       "    <tr>\n",
       "      <th>count</th>\n",
       "      <td>297.000000</td>\n",
       "      <td>297.000000</td>\n",
       "      <td>297.000000</td>\n",
       "    </tr>\n",
       "    <tr>\n",
       "      <th>mean</th>\n",
       "      <td>0.346330</td>\n",
       "      <td>0.065084</td>\n",
       "      <td>0.023064</td>\n",
       "    </tr>\n",
       "    <tr>\n",
       "      <th>std</th>\n",
       "      <td>0.895832</td>\n",
       "      <td>0.037857</td>\n",
       "      <td>0.013089</td>\n",
       "    </tr>\n",
       "    <tr>\n",
       "      <th>min</th>\n",
       "      <td>-0.030000</td>\n",
       "      <td>0.010000</td>\n",
       "      <td>0.010000</td>\n",
       "    </tr>\n",
       "    <tr>\n",
       "      <th>25%</th>\n",
       "      <td>0.100000</td>\n",
       "      <td>0.030000</td>\n",
       "      <td>0.010000</td>\n",
       "    </tr>\n",
       "    <tr>\n",
       "      <th>50%</th>\n",
       "      <td>0.180000</td>\n",
       "      <td>0.060000</td>\n",
       "      <td>0.020000</td>\n",
       "    </tr>\n",
       "    <tr>\n",
       "      <th>75%</th>\n",
       "      <td>0.300000</td>\n",
       "      <td>0.080000</td>\n",
       "      <td>0.030000</td>\n",
       "    </tr>\n",
       "    <tr>\n",
       "      <th>max</th>\n",
       "      <td>11.950000</td>\n",
       "      <td>0.200000</td>\n",
       "      <td>0.070000</td>\n",
       "    </tr>\n",
       "  </tbody>\n",
       "</table>\n",
       "</div>"
      ],
      "text/plain": [
       "       Return on Equity  Return on Assets  Dividend Yield\n",
       "count        297.000000        297.000000      297.000000\n",
       "mean           0.346330          0.065084        0.023064\n",
       "std            0.895832          0.037857        0.013089\n",
       "min           -0.030000          0.010000        0.010000\n",
       "25%            0.100000          0.030000        0.010000\n",
       "50%            0.180000          0.060000        0.020000\n",
       "75%            0.300000          0.080000        0.030000\n",
       "max           11.950000          0.200000        0.070000"
      ]
     },
     "metadata": {},
     "output_type": "display_data"
    }
   ],
   "source": [
    "# Create a statistical summary for the filtered indicators_df\n",
    "desc_df = indicators_df.describe()\n",
    "\n",
    "# # Add the +3_std and -3_std rows based on mean and std values\n",
    "# desc_df.loc['+3_std'] = desc_df.loc['mean'] + (desc_df.loc['std'] * 3)\n",
    "# desc_df.loc['-3_std'] = desc_df.loc['mean'] - (desc_df.loc['std'] * 3)\n",
    "\n",
    "# Display the updated summary\n",
    "display(desc_df)\n"
   ]
  }
 ],
 "metadata": {
  "kernelspec": {
   "display_name": "Python 3",
   "language": "python",
   "name": "python3"
  },
  "language_info": {
   "codemirror_mode": {
    "name": "ipython",
    "version": 3
   },
   "file_extension": ".py",
   "mimetype": "text/x-python",
   "name": "python",
   "nbconvert_exporter": "python",
   "pygments_lexer": "ipython3",
   "version": "3.11.5"
  }
 },
 "nbformat": 4,
 "nbformat_minor": 2
}
